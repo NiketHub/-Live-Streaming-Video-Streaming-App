{
 "cells": [
  {
   "cell_type": "markdown",
   "id": "d909a06a",
   "metadata": {},
   "source": [
    "# Created a Live Streaming Video Chat App without voice using cv2 module of Python"
   ]
  },
  {
   "cell_type": "markdown",
   "id": "d7a2bac9",
   "metadata": {},
   "source": [
    "## Server Side Code :"
   ]
  },
  {
   "cell_type": "code",
   "execution_count": 1,
   "id": "fe3fb368",
   "metadata": {},
   "outputs": [],
   "source": [
    "import socket\n",
    "import cv2\n",
    "import pickle \n",
    "import struct"
   ]
  },
  {
   "cell_type": "code",
   "execution_count": null,
   "id": "1a9c78cc",
   "metadata": {},
   "outputs": [
    {
     "name": "stdout",
     "output_type": "stream",
     "text": [
      "HOST IP: 192.168.56.1\n",
      "Socket Created Successfully\n",
      "\n",
      "Socket Bounded Successfully\n",
      "\n",
      "LISTENING AT: ('192.168.56.1', 9999)\n",
      "Connection Builded...!!\n",
      "\n",
      "DONE CONNECTION FROM: ('192.168.56.1', 21275)\n"
     ]
    }
   ],
   "source": [
    "server_socket = socket.socket(socket.AF_INET,socket.SOCK_STREAM)\n",
    "host_name  = socket.gethostname()\n",
    "host_ip = socket.gethostbyname(host_name)\n",
    "print('HOST IP:',host_ip)\n",
    "\n",
    "port = 9999\n",
    "socket_address = ('192.168.56.1',port)\n",
    "print(\"Socket Created Successfully\\n\")\n",
    "\n",
    "\n",
    "server_socket.bind(socket_address)\n",
    "print(\"Socket Bounded Successfully\\n\")\n",
    "\n",
    "\n",
    "\n",
    "server_socket.listen(5)\n",
    "print(\"LISTENING AT:\",socket_address)\n",
    "\n",
    "\n",
    "print(\"Connection Builded...!!\\n\")\n",
    "\n",
    "while True:\n",
    "    client_socket,addr = server_socket.accept()\n",
    "    print('DONE CONNECTION FROM:',addr)\n",
    "    if client_socket:\n",
    "        vid = cv2.VideoCapture(0)\n",
    "        \n",
    "        while(vid.isOpened()):\n",
    "            img,frame = vid.read()\n",
    "            a = pickle.dumps(frame)\n",
    "            message = struct.pack(\"Q\",len(a))+a\n",
    "            client_socket.sendall(message)\n",
    "            \n",
    "\t\t\n",
    "            cv2.imshow('Server Video',frame)\n",
    "            key = cv2.waitKey(1) & 0xFF\n",
    "            if key ==ord('q'):\n",
    "                client_socket.close()\n",
    "                break\n",
    "cv2.destroyAllWindows()"
   ]
  },
  {
   "cell_type": "code",
   "execution_count": null,
   "id": "43b6000d",
   "metadata": {},
   "outputs": [],
   "source": []
  }
 ],
 "metadata": {
  "kernelspec": {
   "display_name": "Python 3",
   "language": "python",
   "name": "python3"
  },
  "language_info": {
   "codemirror_mode": {
    "name": "ipython",
    "version": 3
   },
   "file_extension": ".py",
   "mimetype": "text/x-python",
   "name": "python",
   "nbconvert_exporter": "python",
   "pygments_lexer": "ipython3",
   "version": "3.8.8"
  }
 },
 "nbformat": 4,
 "nbformat_minor": 5
}
